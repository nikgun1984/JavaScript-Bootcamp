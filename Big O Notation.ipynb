{
 "cells": [
  {
   "cell_type": "code",
   "execution_count": 1,
   "metadata": {},
   "outputs": [],
   "source": [
    "function addUpTo(n) {\n",
    "    let total = 0;\n",
    "    for (let i=0;i<=n;i++){\n",
    "        total += i;\n",
    "    }\n",
    "    return total;\n",
    "}"
   ]
  },
  {
   "cell_type": "code",
   "execution_count": 2,
   "metadata": {},
   "outputs": [],
   "source": [
    "function addUpTo1(n) {\n",
    "    return n*(n+1)/2;\n",
    "}"
   ]
  },
  {
   "cell_type": "code",
   "execution_count": 3,
   "metadata": {},
   "outputs": [
    {
     "name": "stdout",
     "output_type": "stream",
     "text": [
      "Time Elapsed: 0.9370812010020018 seconds.\n"
     ]
    }
   ],
   "source": [
    "const {performance} = require('perf_hooks');\n",
    "let t1 = performance.now();\n",
    "addUpTo(1000000000);\n",
    "let t2 = performance.now();\n",
    "console.log(`Time Elapsed: ${(t2-t1)/1000} seconds.`);"
   ]
  },
  {
   "cell_type": "code",
   "execution_count": 4,
   "metadata": {},
   "outputs": [
    {
     "name": "stdout",
     "output_type": "stream",
     "text": [
      "Time Elapsed: 0.000053217001259326935 seconds.\n"
     ]
    }
   ],
   "source": [
    "let t3 = performance.now();\n",
    "addUpTo1(1000000000);\n",
    "let t4 = performance.now();\n",
    "console.log(`Time Elapsed: ${(t4-t3)/1000} seconds.`);"
   ]
  },
  {
   "cell_type": "code",
   "execution_count": null,
   "metadata": {},
   "outputs": [],
   "source": []
  }
 ],
 "metadata": {
  "kernelspec": {
   "display_name": "Javascript (Node.js)",
   "language": "javascript",
   "name": "javascript"
  },
  "language_info": {
   "file_extension": ".js",
   "mimetype": "application/javascript",
   "name": "javascript",
   "version": "12.12.0"
  }
 },
 "nbformat": 4,
 "nbformat_minor": 2
}
